{
 "cells": [
  {
   "cell_type": "code",
   "execution_count": null,
   "metadata": {},
   "outputs": [],
   "source": [
    "import mysql.connector\n",
    "\t\n",
    "\n",
    "\tmydb = mysql.connector.connect(host=\"localhost\", user=\"root\", passwd=\"root\", database=\"EdYoda\")\n",
    "\t\n",
    "\n",
    "\tmycursor = mydb.cursor()\n",
    "\tmycursor.execute(\"SELECT Yname,Ename FROM Youth,Elder,YCaresE WHERE Youth.Yid=YCaresE.Yid AND Elder.Eid=YCaresE.Eid;\")\n",
    "\tfor i in mycursor:\n",
    "\t    print(i)\n",
    "\n"
   ]
  }
 ],
 "metadata": {
  "kernelspec": {
   "display_name": "Python 3",
   "language": "python",
   "name": "python3"
  },
  "language_info": {
   "codemirror_mode": {
    "name": "ipython",
    "version": 3
   },
   "file_extension": ".py",
   "mimetype": "text/x-python",
   "name": "python",
   "nbconvert_exporter": "python",
   "pygments_lexer": "ipython3",
   "version": "3.7.3"
  }
 },
 "nbformat": 4,
 "nbformat_minor": 2
}
